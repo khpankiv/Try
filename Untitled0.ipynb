{
  "nbformat": 4,
  "nbformat_minor": 0,
  "metadata": {
    "colab": {
      "name": "Untitled0.ipynb",
      "provenance": [],
      "authorship_tag": "ABX9TyPN8wVAN/7+TEYmOaNvzWW/",
      "include_colab_link": true
    },
    "kernelspec": {
      "name": "python3",
      "display_name": "Python 3"
    },
    "language_info": {
      "name": "python"
    },
    "widgets": {
      "application/vnd.jupyter.widget-state+json": {
        "813b693f2dd042f7934f921cb7c0b893": {
          "model_module": "jupyter-webrtc",
          "model_name": "CameraStreamModel",
          "model_module_version": "~0.6.0",
          "state": {
            "_view_name": "MediaStreamView",
            "_dom_classes": [],
            "_model_name": "CameraStreamModel",
            "_view_module": "jupyter-webrtc",
            "_model_module_version": "~0.6.0",
            "_view_count": null,
            "_view_module_version": "~0.6.0",
            "layout": "IPY_MODEL_49cfc495b00a4748a177932d538487a1",
            "_model_module": "jupyter-webrtc",
            "constraints": {
              "facing_mode": "user",
              "video": {
                "width": 640,
                "height": 480
              },
              "audio": false
            }
          }
        },
        "49cfc495b00a4748a177932d538487a1": {
          "model_module": "@jupyter-widgets/base",
          "model_name": "LayoutModel",
          "model_module_version": "1.2.0",
          "state": {
            "_view_name": "LayoutView",
            "grid_template_rows": null,
            "right": null,
            "justify_content": null,
            "_view_module": "@jupyter-widgets/base",
            "overflow": null,
            "_model_module_version": "1.2.0",
            "_view_count": null,
            "flex_flow": null,
            "width": null,
            "min_width": null,
            "border": null,
            "align_items": null,
            "bottom": null,
            "_model_module": "@jupyter-widgets/base",
            "top": null,
            "grid_column": null,
            "overflow_y": null,
            "overflow_x": null,
            "grid_auto_flow": null,
            "grid_area": null,
            "grid_template_columns": null,
            "flex": null,
            "_model_name": "LayoutModel",
            "justify_items": null,
            "grid_row": null,
            "max_height": null,
            "align_content": null,
            "visibility": null,
            "align_self": null,
            "height": null,
            "min_height": null,
            "padding": null,
            "grid_auto_rows": null,
            "grid_gap": null,
            "max_width": null,
            "order": null,
            "_view_module_version": "1.2.0",
            "grid_template_areas": null,
            "object_position": null,
            "object_fit": null,
            "grid_auto_columns": null,
            "margin": null,
            "display": null,
            "left": null
          }
        }
      }
    }
  },
  "cells": [
    {
      "cell_type": "markdown",
      "metadata": {
        "id": "view-in-github",
        "colab_type": "text"
      },
      "source": [
        "<a href=\"https://colab.research.google.com/github/khpankiv/Try/blob/main/Untitled0.ipynb\" target=\"_parent\"><img src=\"https://colab.research.google.com/assets/colab-badge.svg\" alt=\"Open In Colab\"/></a>"
      ]
    },
    {
      "cell_type": "code",
      "metadata": {
        "colab": {
          "base_uri": "https://localhost:8080/"
        },
        "id": "g5w8LXGps7d0",
        "outputId": "f2bb60df-f0e1-42b6-b6cb-70c176a1c9c3"
      },
      "source": [
        "! pip install ipywebrtc    "
      ],
      "execution_count": 2,
      "outputs": [
        {
          "output_type": "stream",
          "name": "stdout",
          "text": [
            "Collecting ipywebrtc\n",
            "  Downloading ipywebrtc-0.6.0-py2.py3-none-any.whl (260 kB)\n",
            "\u001b[?25l\r\u001b[K     |█▎                              | 10 kB 24.4 MB/s eta 0:00:01\r\u001b[K     |██▌                             | 20 kB 27.1 MB/s eta 0:00:01\r\u001b[K     |███▊                            | 30 kB 12.2 MB/s eta 0:00:01\r\u001b[K     |█████                           | 40 kB 9.4 MB/s eta 0:00:01\r\u001b[K     |██████▎                         | 51 kB 5.3 MB/s eta 0:00:01\r\u001b[K     |███████▌                        | 61 kB 5.8 MB/s eta 0:00:01\r\u001b[K     |████████▉                       | 71 kB 5.2 MB/s eta 0:00:01\r\u001b[K     |██████████                      | 81 kB 5.8 MB/s eta 0:00:01\r\u001b[K     |███████████▎                    | 92 kB 4.7 MB/s eta 0:00:01\r\u001b[K     |████████████▋                   | 102 kB 5.1 MB/s eta 0:00:01\r\u001b[K     |█████████████▉                  | 112 kB 5.1 MB/s eta 0:00:01\r\u001b[K     |███████████████                 | 122 kB 5.1 MB/s eta 0:00:01\r\u001b[K     |████████████████▍               | 133 kB 5.1 MB/s eta 0:00:01\r\u001b[K     |█████████████████▋              | 143 kB 5.1 MB/s eta 0:00:01\r\u001b[K     |██████████████████▉             | 153 kB 5.1 MB/s eta 0:00:01\r\u001b[K     |████████████████████            | 163 kB 5.1 MB/s eta 0:00:01\r\u001b[K     |█████████████████████▍          | 174 kB 5.1 MB/s eta 0:00:01\r\u001b[K     |██████████████████████▋         | 184 kB 5.1 MB/s eta 0:00:01\r\u001b[K     |███████████████████████▉        | 194 kB 5.1 MB/s eta 0:00:01\r\u001b[K     |█████████████████████████▏      | 204 kB 5.1 MB/s eta 0:00:01\r\u001b[K     |██████████████████████████▍     | 215 kB 5.1 MB/s eta 0:00:01\r\u001b[K     |███████████████████████████▋    | 225 kB 5.1 MB/s eta 0:00:01\r\u001b[K     |█████████████████████████████   | 235 kB 5.1 MB/s eta 0:00:01\r\u001b[K     |██████████████████████████████▏ | 245 kB 5.1 MB/s eta 0:00:01\r\u001b[K     |███████████████████████████████▍| 256 kB 5.1 MB/s eta 0:00:01\r\u001b[K     |████████████████████████████████| 260 kB 5.1 MB/s \n",
            "\u001b[?25hInstalling collected packages: ipywebrtc\n",
            "Successfully installed ipywebrtc-0.6.0\n"
          ]
        }
      ]
    },
    {
      "cell_type": "code",
      "metadata": {
        "id": "RKXH5mZisVPs"
      },
      "source": [
        "from ipywebrtc import CameraStream, ImageRecorder\n"
      ],
      "execution_count": 3,
      "outputs": []
    },
    {
      "cell_type": "code",
      "metadata": {
        "colab": {
          "base_uri": "https://localhost:8080/",
          "height": 506,
          "referenced_widgets": [
            "813b693f2dd042f7934f921cb7c0b893",
            "49cfc495b00a4748a177932d538487a1"
          ]
        },
        "id": "lQ2vBo34smPl",
        "outputId": "939bc93e-d7f0-47a4-f501-f12b5ef94501"
      },
      "source": [
        "camera = CameraStream(constraints=\n",
        "                      {'facing_mode': 'user',\n",
        "                       'audio': False,\n",
        "                       'video': { 'width': 640, 'height': 480 }\n",
        "                       })\n",
        "camera"
      ],
      "execution_count": 6,
      "outputs": [
        {
          "output_type": "display_data",
          "data": {
            "application/vnd.jupyter.widget-view+json": {
              "model_id": "813b693f2dd042f7934f921cb7c0b893",
              "version_minor": 0,
              "version_major": 2
            },
            "text/plain": [
              "CameraStream(constraints={'facing_mode': 'user', 'audio': False, 'video': {'width': 640, 'height': 480}})"
            ]
          },
          "metadata": {
            "application/vnd.jupyter.widget-view+json": {
              "colab": {
                "custom_widget_manager": {
                  "url": "https://ssl.gstatic.com/colaboratory-static/widgets/colab-cdn-widget-manager/a8874ba6619b6106/manager.min.js"
                }
              }
            }
          }
        }
      ]
    },
    {
      "cell_type": "code",
      "metadata": {
        "id": "_M5ieKYGtFQh"
      },
      "source": [
        ""
      ],
      "execution_count": null,
      "outputs": []
    },
    {
      "cell_type": "code",
      "metadata": {
        "id": "wRtZk96gtKGZ"
      },
      "source": [
        "from google.colab import output\n",
        "output.enable_custom_widget_manager()"
      ],
      "execution_count": 5,
      "outputs": []
    },
    {
      "cell_type": "code",
      "metadata": {
        "id": "391eJ6qhtKGa"
      },
      "source": [
        "from google.colab import output\n",
        "output.disable_custom_widget_manager()"
      ],
      "execution_count": null,
      "outputs": []
    }
  ]
}